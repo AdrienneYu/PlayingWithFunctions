{
 "cells": [
  {
   "cell_type": "markdown",
   "id": "c974da1a",
   "metadata": {},
   "source": [
    "# Assignment: Playing with Functions"
   ]
  },
  {
   "cell_type": "markdown",
   "id": "a26e2633",
   "metadata": {},
   "source": [
    "## Instructions  \n",
    "This is the template file for the assignment of Module 4 called \"Playing with Functions.\" Please carefully follow the instructions below.\n",
    "  \n",
    "1. Rename this file by filling out your surname and first name in the file name. For example, if your surname is Ilagan and if your first name is Joben, then rename the file to ILAGAN-JOBEN-playingWithFunctions.ipynb.\n",
    "2. Fill out the markdown cell just above Problem 1 with your student details as indicated.\n",
    "3. To submit this file, first, upload your file to your GitHub repository and, second, submit your repository link to the assignment on Canvas."
   ]
  },
  {
   "cell_type": "markdown",
   "id": "f3556577",
   "metadata": {},
   "source": [
    "## Student Details  \n",
    "ID Number: 205522  \n",
    "Surname: Yu  \n",
    "Year and Course: 2 BS ITE"
   ]
  },
  {
   "cell_type": "markdown",
   "id": "ee4f7f4f",
   "metadata": {},
   "source": [
    "## Problem 1  \n",
    "## Factorial Point 1 (1 point)  \n",
    "The **factorial** of a number is the product of that number and all the numbers below it. For example, 5 factorial (denoted 5! in math) is 5 4 3 2 1, which is 120.  \n",
    "  \n",
    "**Write a function called problem_1 that takes one positional argument number. The function should return the factorial of number as an integer.**"
   ]
  },
  {
   "cell_type": "code",
   "execution_count": 8,
   "id": "35fe8f07",
   "metadata": {},
   "outputs": [],
   "source": [
    "def problem_1(number):\n",
    "    factorial = 1\n",
    "    \n",
    "    if number < 0:\n",
    "        return(\"dne\")\n",
    "    elif number == 0:\n",
    "        return(\"1\")\n",
    "    else:\n",
    "        for i in range(1,number + 1):\n",
    "            factorial = factorial * i\n",
    "        return(factorial)"
   ]
  },
  {
   "cell_type": "code",
   "execution_count": 9,
   "id": "e700384b",
   "metadata": {
    "scrolled": true
   },
   "outputs": [
    {
     "data": {
      "text/plain": [
       "3628800"
      ]
     },
     "execution_count": 9,
     "metadata": {},
     "output_type": "execute_result"
    }
   ],
   "source": [
    "problem_1(10)"
   ]
  },
  {
   "cell_type": "code",
   "execution_count": 10,
   "id": "ba59573a",
   "metadata": {
    "scrolled": true
   },
   "outputs": [
    {
     "data": {
      "text/plain": [
       "120"
      ]
     },
     "execution_count": 10,
     "metadata": {},
     "output_type": "execute_result"
    }
   ],
   "source": [
    "problem_1(5)"
   ]
  },
  {
   "cell_type": "code",
   "execution_count": 12,
   "id": "6e8c45c8",
   "metadata": {},
   "outputs": [
    {
     "name": "stdout",
     "output_type": "stream",
     "text": [
      "1\n"
     ]
    }
   ],
   "source": [
    "problem_1(0)"
   ]
  },
  {
   "cell_type": "code",
   "execution_count": 14,
   "id": "e8595184",
   "metadata": {},
   "outputs": [
    {
     "name": "stdout",
     "output_type": "stream",
     "text": [
      "dne\n"
     ]
    }
   ],
   "source": [
    "problem_1(-10)"
   ]
  },
  {
   "cell_type": "code",
   "execution_count": null,
   "id": "4ebd7a7b",
   "metadata": {},
   "outputs": [],
   "source": []
  },
  {
   "cell_type": "markdown",
   "id": "e5b79aa0",
   "metadata": {},
   "source": [
    "## Problem 2  \n",
    "## Guessing Game  \n",
    "Recall that we use input() to ask for user input.  \n",
    "  \n",
    "**Write a function called problem_2 that takes one positional argument passphrase. The function should ask the user to enter the passphrase with input(). If the user enters the correct passphrase, the function should return the integer 1. If the user enters the wrong passphrase, the function should keep asking them for the passphrase. If the user gets the passphrase wrong 3 times, the function should return the integer 0.**"
   ]
  },
  {
   "cell_type": "code",
   "execution_count": 62,
   "id": "650955a3",
   "metadata": {},
   "outputs": [],
   "source": [
    "def problem_2(input_name):\n",
    "    while(True):\n",
    "        guess1 = str(input(\"Enter name: \"))\n",
    "\n",
    "        if guess1 == input_name:\n",
    "            return(1)\n",
    "            break\n",
    "\n",
    "        guess2 = str(input(\"Enter name: \"))\n",
    "\n",
    "        if guess2 == input_name:\n",
    "            return(1)\n",
    "            break\n",
    "\n",
    "        guess3 = str(input(\"Enter name: \"))\n",
    "\n",
    "        if guess3 == input_name:\n",
    "            return(1)\n",
    "            break\n",
    "        else:\n",
    "            return(0)\n",
    "            break"
   ]
  },
  {
   "cell_type": "code",
   "execution_count": 63,
   "id": "7a59a5e7",
   "metadata": {
    "scrolled": false
   },
   "outputs": [
    {
     "name": "stdout",
     "output_type": "stream",
     "text": [
      "Enter name: yu\n"
     ]
    },
    {
     "data": {
      "text/plain": [
       "1"
      ]
     },
     "execution_count": 63,
     "metadata": {},
     "output_type": "execute_result"
    }
   ],
   "source": [
    "problem_2(\"yu\")"
   ]
  },
  {
   "cell_type": "code",
   "execution_count": 64,
   "id": "e973d9a7",
   "metadata": {
    "scrolled": true
   },
   "outputs": [
    {
     "name": "stdout",
     "output_type": "stream",
     "text": [
      "Enter name: adrienne\n",
      "Enter name: yu\n"
     ]
    },
    {
     "data": {
      "text/plain": [
       "1"
      ]
     },
     "execution_count": 64,
     "metadata": {},
     "output_type": "execute_result"
    }
   ],
   "source": [
    "problem_2(\"yu\")"
   ]
  },
  {
   "cell_type": "code",
   "execution_count": 65,
   "id": "83e93abb",
   "metadata": {
    "scrolled": false
   },
   "outputs": [
    {
     "name": "stdout",
     "output_type": "stream",
     "text": [
      "Enter name: adrienne\n",
      "Enter name: adrienne\n",
      "Enter name: yu\n"
     ]
    },
    {
     "data": {
      "text/plain": [
       "1"
      ]
     },
     "execution_count": 65,
     "metadata": {},
     "output_type": "execute_result"
    }
   ],
   "source": [
    "problem_2(\"yu\")"
   ]
  },
  {
   "cell_type": "code",
   "execution_count": 66,
   "id": "f3c62439",
   "metadata": {
    "scrolled": true
   },
   "outputs": [
    {
     "name": "stdout",
     "output_type": "stream",
     "text": [
      "Enter name: adrienne\n",
      "Enter name: adrienne\n",
      "Enter name: adrienne\n"
     ]
    },
    {
     "data": {
      "text/plain": [
       "0"
      ]
     },
     "execution_count": 66,
     "metadata": {},
     "output_type": "execute_result"
    }
   ],
   "source": [
    "problem_2(\"yu\")"
   ]
  },
  {
   "cell_type": "code",
   "execution_count": null,
   "id": "eb1577d8",
   "metadata": {},
   "outputs": [],
   "source": []
  },
  {
   "cell_type": "markdown",
   "id": "eafb436c",
   "metadata": {},
   "source": [
    "## Problem 3  \n",
    "## Temperature Converter (3 points)  \n",
    "A common beginner's exercise is to write a function that can convert a temperature value from one format, such as Fahrenheit, to another, such as Celsius.  \n",
    "  \n",
    "In this problem, extend this idea to convert temperatures freely to and from any of the following formats: Celsius, Fahrenheit, and Kelvin.  \n",
    "  \n",
    "**Write a function called problem_3 that takes three positional arguments: (float) temp, (string) original_format, (string) new_format. The function should convert temp, which is represented in original_format, to its equivalent value in the new_format.**"
   ]
  },
  {
   "cell_type": "code",
   "execution_count": 34,
   "id": "c7b1fb4a",
   "metadata": {
    "scrolled": true
   },
   "outputs": [],
   "source": [
    "def problem_3(temp, original_format, new_format):\n",
    "    if original_format == \"Celsius\" and new_format == \"Fahrenheit\":\n",
    "        return(1.8 * temp + 32)\n",
    "    elif original_format == \"Celsius\" and new_format == \"Kelvin\":\n",
    "        return(temp + 273.15)\n",
    "    elif original_format == \"Celsius\" and new_format == \"Celsius\":\n",
    "        return(temp)\n",
    "    elif original_format == \"Kelvin\" and new_format == \"Fahrenheit\":\n",
    "        return((temp - 273.15) * 9/5 + 32)\n",
    "    elif original_format == \"Kelvin\" and new_format == \"Celsius\":\n",
    "        return(temp - 273.15)\n",
    "    elif original_format == \"Kelvin\" and new_format == \"Kelvin\":\n",
    "        return(temp)\n",
    "    elif original_format == \"Fahrenheit\" and new_format == \"Celsius\":\n",
    "        return(5/9 * (temp - 32))\n",
    "    elif original_format == \"Fahrenheit\" and new_format == \"Kelvin\":\n",
    "        return(5/9 * (temp - 32) + 273.15)\n",
    "    elif original_format == \"Fahrenheit\" and new_format == \"Fahrenheit\":\n",
    "        return(temp)"
   ]
  },
  {
   "cell_type": "code",
   "execution_count": 35,
   "id": "5f450b25",
   "metadata": {
    "scrolled": false
   },
   "outputs": [
    {
     "data": {
      "text/plain": [
       "-405.66999999999996"
      ]
     },
     "execution_count": 35,
     "metadata": {},
     "output_type": "execute_result"
    }
   ],
   "source": [
    "problem_3(30.0, \"Kelvin\", \"Fahrenheit\")"
   ]
  },
  {
   "cell_type": "code",
   "execution_count": 36,
   "id": "79597fb3",
   "metadata": {
    "scrolled": true
   },
   "outputs": [
    {
     "data": {
      "text/plain": [
       "10.0"
      ]
     },
     "execution_count": 36,
     "metadata": {},
     "output_type": "execute_result"
    }
   ],
   "source": [
    "problem_3(50.0, \"Fahrenheit\", \"Celsius\")"
   ]
  },
  {
   "cell_type": "code",
   "execution_count": 37,
   "id": "bd8ce247",
   "metadata": {},
   "outputs": [
    {
     "data": {
      "text/plain": [
       "373.15"
      ]
     },
     "execution_count": 37,
     "metadata": {},
     "output_type": "execute_result"
    }
   ],
   "source": [
    "problem_3(100.0, \"Celsius\", \"Kelvin\")"
   ]
  },
  {
   "cell_type": "code",
   "execution_count": null,
   "id": "3488cb0d",
   "metadata": {},
   "outputs": [],
   "source": []
  },
  {
   "cell_type": "markdown",
   "id": "1152f2f2",
   "metadata": {},
   "source": [
    "## Problem 4  \n",
    "## Exact Change (4 points)  \n",
    "Part of a cashier's job is to give exact change to customers. It can be difficult to mentally tally how many coins of each type (i.e., 1 peso, 25 centavos, 10 centavos, etc.) to give to a customer.  \n",
    "  \n",
    "**Write a function called problem_4 that takes 1 positional argument amount in centavos. The function should return a string that describes the appropriate amounts of each type of coin to give to the customer. The string should be formatted as follows:**  \n",
    "  \n",
    "\"1P:{num}/25C:{num}/10C:{num}/5C:{num}/1C:{num}\"  \n",
    "  \n",
    "**Use the fewest number of total coins possible.**"
   ]
  },
  {
   "cell_type": "code",
   "execution_count": 171,
   "id": "9ecc598f",
   "metadata": {
    "scrolled": true
   },
   "outputs": [],
   "source": [
    "def problem_4 (centavos):\n",
    "    peso = 0 + int(centavos//100)\n",
    "    twentyfive = 0 + int((centavos/100 - centavos//100) / .25)\n",
    "    ten = 0 + int((round((((centavos/100) - (centavos//100)) % .25) * 100)) / 10)\n",
    "    five = 0 + int(((round((((centavos/100) - (centavos//100)) % .25) * 100)) % 10) // 5)\n",
    "    one = 0 + int((round((((centavos/100-centavos//100) % .25) % .10) * 100) % 5) // 1)\n",
    "    return(\"1P: \" + str(peso)+\"/\"+\"25C: \" + str(twentyfive)+\"/\"+\"10C: \" + str(ten)+\"/\"+\"5C: \" + str(five)+\"/\"+\"1C: \" + str(one))"
   ]
  },
  {
   "cell_type": "code",
   "execution_count": 168,
   "id": "59e2d922",
   "metadata": {},
   "outputs": [],
   "source": [
    "def problem_4 (centavos):\n",
    "    peso = 0 + int(centavos//100)\n",
    "    twentyfive = 0 + int((centavos/100 - centavos//100) / .25)\n",
    "    ten = 0 + int((round((((centavos/100) - (centavos//100)) % .25) * 100)) / 10)\n",
    "    five = 0 + int(((round((((centavos/100) - (centavos//100)) % .25) * 100)) % 10) // 5)\n",
    "    one = 0 + int((round((((centavos/100-centavos//100) % .25) % .10) * 100) % 5) // 1)\n",
    "    \n",
    "    countone = \"1P:\" + str (peso)\n",
    "    counttwo = \"25C:\" + str(twentyfive)\n",
    "    countthree = \"10C:\" + str(ten)\n",
    "    countfour = \"5C: \" + str(five)\n",
    "    countfive = \"1C: \" + str(one)\n",
    "    \n",
    "    return(countone+\"/\"+counttwo+\"/\"+countthree+\"/\"+countfour+\"/\"+countfive)"
   ]
  },
  {
   "cell_type": "code",
   "execution_count": 172,
   "id": "9cb393f8",
   "metadata": {
    "scrolled": false
   },
   "outputs": [
    {
     "data": {
      "text/plain": [
       "'1P: 0/25C: 2/10C: 1/5C: 1/1C: 4'"
      ]
     },
     "execution_count": 172,
     "metadata": {},
     "output_type": "execute_result"
    }
   ],
   "source": [
    "problem_4(69)"
   ]
  },
  {
   "cell_type": "code",
   "execution_count": 170,
   "id": "c7c5dc56",
   "metadata": {
    "scrolled": false
   },
   "outputs": [
    {
     "data": {
      "text/plain": [
       "'1P: 1/25C: 0/10C: 0/5C: 1/1C: 0'"
      ]
     },
     "execution_count": 170,
     "metadata": {},
     "output_type": "execute_result"
    }
   ],
   "source": [
    "problem_4(105)"
   ]
  },
  {
   "cell_type": "code",
   "execution_count": null,
   "id": "10bbaaee",
   "metadata": {},
   "outputs": [],
   "source": []
  },
  {
   "cell_type": "markdown",
   "id": "52966454",
   "metadata": {},
   "source": [
    "## Problem 5  \n",
    "## Invert Capitalization (3 points)  \n",
    "**Write a function called problem_5 that takes 1 positional argument (string) message. The function should return a string whose uppercase letters are now lowercase and whose lowercase letters are now uppercase. Spaces should be left alone.**"
   ]
  },
  {
   "cell_type": "code",
   "execution_count": 142,
   "id": "790dac71",
   "metadata": {
    "scrolled": true
   },
   "outputs": [],
   "source": [
    "def problem_5(message):\n",
    "    new_message = \"\"\n",
    "    for i in message:\n",
    "        if ord(i) == 32:\n",
    "            new_message += chr(ord(i))\n",
    "        elif ord(i) <= 90:\n",
    "            new_message += chr(ord(i) + 32)\n",
    "        else: \n",
    "            new_message += chr(ord(i) - 32)\n",
    "\n",
    "    values = \"\".join(str(new_message))\n",
    "    return(values)"
   ]
  },
  {
   "cell_type": "code",
   "execution_count": 143,
   "id": "f054efb8",
   "metadata": {},
   "outputs": [
    {
     "data": {
      "text/plain": [
       "'ADRIENNE yu'"
      ]
     },
     "execution_count": 143,
     "metadata": {},
     "output_type": "execute_result"
    }
   ],
   "source": [
    "problem_5(\"adrienne YU\")"
   ]
  },
  {
   "cell_type": "code",
   "execution_count": null,
   "id": "32fbf332",
   "metadata": {},
   "outputs": [],
   "source": []
  }
 ],
 "metadata": {
  "kernelspec": {
   "display_name": "Python 3",
   "language": "python",
   "name": "python3"
  },
  "language_info": {
   "codemirror_mode": {
    "name": "ipython",
    "version": 3
   },
   "file_extension": ".py",
   "mimetype": "text/x-python",
   "name": "python",
   "nbconvert_exporter": "python",
   "pygments_lexer": "ipython3",
   "version": "3.8.8"
  }
 },
 "nbformat": 4,
 "nbformat_minor": 5
}
